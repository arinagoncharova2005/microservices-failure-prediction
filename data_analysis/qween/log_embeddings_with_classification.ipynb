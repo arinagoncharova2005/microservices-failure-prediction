{
 "cells": [
  {
   "cell_type": "code",
   "execution_count": 1,
   "id": "337ecd9b",
   "metadata": {},
   "outputs": [],
   "source": [
    "import pandas as pd\n",
    "import numpy as np\n",
    "from sentence_transformers import SentenceTransformer\n",
    "import re\n",
    "import torch"
   ]
  },
  {
   "cell_type": "code",
   "execution_count": 2,
   "id": "a0ea22de",
   "metadata": {},
   "outputs": [],
   "source": [
    "def read_csv_dataset(file_path, sep=','):\n",
    "    return pd.read_csv(file_path, sep=sep)\n",
    "\n",
    "def convert_timestamps_to_datetime(df, timestamp_column_name='timestamp', timestamp_unit='s'):\n",
    "    df['datetime'] = pd.to_datetime(df[timestamp_column_name], unit=timestamp_unit)\n",
    "    return df\n",
    "\n",
    "def get_data(file_path, sep=',', timestamp_column_name='timestamp', timestamp_unit='s'):\n",
    "    df = read_csv_dataset(file_path, sep=sep)\n",
    "    df = convert_timestamps_to_datetime(df, timestamp_column_name, timestamp_unit)\n",
    "    print(f\"Dataset shape: {df.shape}\")\n",
    "    return df"
   ]
  },
  {
   "cell_type": "code",
   "execution_count": 3,
   "id": "ad4345af",
   "metadata": {},
   "outputs": [
    {
     "name": "stdout",
     "output_type": "stream",
     "text": [
      "Dataset shape: (50, 5)\n"
     ]
    },
    {
     "data": {
      "application/vnd.microsoft.datawrangler.viewer.v0+json": {
       "columns": [
        {
         "name": "index",
         "rawType": "int64",
         "type": "integer"
        },
        {
         "name": "timestamp",
         "rawType": "int64",
         "type": "integer"
        },
        {
         "name": "level",
         "rawType": "object",
         "type": "string"
        },
        {
         "name": "cmdb_id",
         "rawType": "object",
         "type": "string"
        },
        {
         "name": "failure_type",
         "rawType": "object",
         "type": "string"
        },
        {
         "name": "datetime",
         "rawType": "datetime64[ns]",
         "type": "datetime"
        }
       ],
       "ref": "bcf81caf-3217-413f-8c36-9055e17ca516",
       "rows": [
        [
         "0",
         "1651510238",
         "pod",
         "shippingservice2-0",
         "Kubernetes Container Memory Load",
         "2022-05-02 16:50:38"
        ],
        [
         "1",
         "1651511197",
         "node",
         "node-2",
         "Node Memory Consumption",
         "2022-05-02 17:06:37"
        ],
        [
         "2",
         "1651512508",
         "node",
         "node-2",
         "Node Disk Space Consumption",
         "2022-05-02 17:28:28"
        ],
        [
         "3",
         "1651515718",
         "pod",
         "adservice2-0",
         "Kubernetes Container Network Resource Packet Corruption",
         "2022-05-02 18:21:58"
        ],
        [
         "4",
         "1651518109",
         "pod",
         "paymentservice-1",
         "Kubernetes Container Network Packet Loss",
         "2022-05-02 19:01:49"
        ]
       ],
       "shape": {
        "columns": 5,
        "rows": 5
       }
      },
      "text/html": [
       "<div>\n",
       "<style scoped>\n",
       "    .dataframe tbody tr th:only-of-type {\n",
       "        vertical-align: middle;\n",
       "    }\n",
       "\n",
       "    .dataframe tbody tr th {\n",
       "        vertical-align: top;\n",
       "    }\n",
       "\n",
       "    .dataframe thead th {\n",
       "        text-align: right;\n",
       "    }\n",
       "</style>\n",
       "<table border=\"1\" class=\"dataframe\">\n",
       "  <thead>\n",
       "    <tr style=\"text-align: right;\">\n",
       "      <th></th>\n",
       "      <th>timestamp</th>\n",
       "      <th>level</th>\n",
       "      <th>cmdb_id</th>\n",
       "      <th>failure_type</th>\n",
       "      <th>datetime</th>\n",
       "    </tr>\n",
       "  </thead>\n",
       "  <tbody>\n",
       "    <tr>\n",
       "      <th>0</th>\n",
       "      <td>1651510238</td>\n",
       "      <td>pod</td>\n",
       "      <td>shippingservice2-0</td>\n",
       "      <td>Kubernetes Container Memory Load</td>\n",
       "      <td>2022-05-02 16:50:38</td>\n",
       "    </tr>\n",
       "    <tr>\n",
       "      <th>1</th>\n",
       "      <td>1651511197</td>\n",
       "      <td>node</td>\n",
       "      <td>node-2</td>\n",
       "      <td>Node Memory Consumption</td>\n",
       "      <td>2022-05-02 17:06:37</td>\n",
       "    </tr>\n",
       "    <tr>\n",
       "      <th>2</th>\n",
       "      <td>1651512508</td>\n",
       "      <td>node</td>\n",
       "      <td>node-2</td>\n",
       "      <td>Node Disk Space Consumption</td>\n",
       "      <td>2022-05-02 17:28:28</td>\n",
       "    </tr>\n",
       "    <tr>\n",
       "      <th>3</th>\n",
       "      <td>1651515718</td>\n",
       "      <td>pod</td>\n",
       "      <td>adservice2-0</td>\n",
       "      <td>Kubernetes Container Network Resource Packet C...</td>\n",
       "      <td>2022-05-02 18:21:58</td>\n",
       "    </tr>\n",
       "    <tr>\n",
       "      <th>4</th>\n",
       "      <td>1651518109</td>\n",
       "      <td>pod</td>\n",
       "      <td>paymentservice-1</td>\n",
       "      <td>Kubernetes Container Network Packet Loss</td>\n",
       "      <td>2022-05-02 19:01:49</td>\n",
       "    </tr>\n",
       "  </tbody>\n",
       "</table>\n",
       "</div>"
      ],
      "text/plain": [
       "    timestamp level             cmdb_id  \\\n",
       "0  1651510238   pod  shippingservice2-0   \n",
       "1  1651511197  node              node-2   \n",
       "2  1651512508  node              node-2   \n",
       "3  1651515718   pod        adservice2-0   \n",
       "4  1651518109   pod    paymentservice-1   \n",
       "\n",
       "                                        failure_type            datetime  \n",
       "0                   Kubernetes Container Memory Load 2022-05-02 16:50:38  \n",
       "1                            Node Memory Consumption 2022-05-02 17:06:37  \n",
       "2                        Node Disk Space Consumption 2022-05-02 17:28:28  \n",
       "3  Kubernetes Container Network Resource Packet C... 2022-05-02 18:21:58  \n",
       "4           Kubernetes Container Network Packet Loss 2022-05-02 19:01:49  "
      ]
     },
     "execution_count": 3,
     "metadata": {},
     "output_type": "execute_result"
    }
   ],
   "source": [
    "failures_03_05_df = get_data('/Users/arinagoncharova/Documents/diploma/EDA/Aiops-Dataset/groundtruth/groundtruth-2022-05-03.csv')\n",
    "failures_03_05_df.head()"
   ]
  },
  {
   "cell_type": "code",
   "execution_count": 4,
   "id": "8d2e8afc",
   "metadata": {},
   "outputs": [
    {
     "data": {
      "application/vnd.microsoft.datawrangler.viewer.v0+json": {
       "columns": [
        {
         "name": "index",
         "rawType": "int64",
         "type": "integer"
        },
        {
         "name": "timestamp",
         "rawType": "int64",
         "type": "integer"
        },
        {
         "name": "level",
         "rawType": "object",
         "type": "string"
        },
        {
         "name": "cmdb_id",
         "rawType": "object",
         "type": "string"
        },
        {
         "name": "failure_type",
         "rawType": "object",
         "type": "string"
        },
        {
         "name": "datetime",
         "rawType": "datetime64[ns]",
         "type": "datetime"
        }
       ],
       "ref": "fca7a255-88b1-40d6-a2e4-d04b75895744",
       "rows": [
        [
         "5",
         "1651519906",
         "service",
         "productcatalogservice",
         "Kubernetes Container Network Resource Packet Duplication",
         "2022-05-02 19:31:46"
        ],
        [
         "8",
         "1651523554",
         "service",
         "recommendationservice",
         "Kubernetes Container Read I/O Load",
         "2022-05-02 20:32:34"
        ],
        [
         "10",
         "1651529574",
         "service",
         "frontend",
         "Kubernetes Container Network Resource Packet Duplication",
         "2022-05-02 22:12:54"
        ],
        [
         "13",
         "1651533257",
         "service",
         "recommendationservice",
         "Kubernetes Container Network Packet Loss",
         "2022-05-02 23:14:17"
        ],
        [
         "14",
         "1651535538",
         "service",
         "cartservice",
         "Kubernetes Container Network Packet Loss",
         "2022-05-02 23:52:18"
        ],
        [
         "16",
         "1651538629",
         "service",
         "emailservice",
         "Kubernetes Container Write I/O Load",
         "2022-05-03 00:43:49"
        ],
        [
         "18",
         "1651544319",
         "service",
         "frontend",
         "Kubernetes Container Write I/O Load",
         "2022-05-03 02:18:39"
        ],
        [
         "19",
         "1651545391",
         "service",
         "adservice",
         "Kubernetes Container Read I/O Load",
         "2022-05-03 02:36:31"
        ],
        [
         "21",
         "1651551592",
         "service",
         "currencyservice",
         "Kubernetes Container Network Resource Packet Corruption",
         "2022-05-03 04:19:52"
        ],
        [
         "22",
         "1651553048",
         "service",
         "checkoutservice",
         "Kubernetes Container CPU Load",
         "2022-05-03 04:44:08"
        ],
        [
         "23",
         "1651557284",
         "service",
         "currencyservice",
         "Kubernetes Container Network Packet Loss",
         "2022-05-03 05:54:44"
        ],
        [
         "24",
         "1651559992",
         "service",
         "checkoutservice",
         "Kubernetes Container Network Resource Packet Corruption",
         "2022-05-03 06:39:52"
        ],
        [
         "26",
         "1651562022",
         "service",
         "productcatalogservice",
         "Kubernetes Container Network Packet Loss",
         "2022-05-03 07:13:42"
        ],
        [
         "32",
         "1651574154",
         "service",
         "emailservice",
         "Kubernetes Container Read I/O Load",
         "2022-05-03 10:35:54"
        ],
        [
         "35",
         "1651578454",
         "service",
         "productcatalogservice",
         "Kubernetes Container Memory Load",
         "2022-05-03 11:47:34"
        ],
        [
         "39",
         "1651587373",
         "service",
         "checkoutservice",
         "Kubernetes Container Network Resource Packet Duplication",
         "2022-05-03 14:16:13"
        ],
        [
         "40",
         "1651588509",
         "service",
         "recommendationservice",
         "Kubernetes Container Memory Load",
         "2022-05-03 14:35:09"
        ],
        [
         "41",
         "1651589596",
         "service",
         "frontend",
         "Kubernetes Container Network Resource Packet Corruption",
         "2022-05-03 14:53:16"
        ],
        [
         "43",
         "1651514529",
         "service",
         "adservice",
         "Kubernetes Container Network Latency",
         "2022-05-02 18:02:09"
        ],
        [
         "44",
         "1651526238",
         "service",
         "recommendationservice",
         "Kubernetes Container Process Termination",
         "2022-05-02 21:17:18"
        ],
        [
         "46",
         "1651566484",
         "service",
         "checkoutservice",
         "Kubernetes Container Process Termination",
         "2022-05-03 08:28:04"
        ]
       ],
       "shape": {
        "columns": 5,
        "rows": 21
       }
      },
      "text/html": [
       "<div>\n",
       "<style scoped>\n",
       "    .dataframe tbody tr th:only-of-type {\n",
       "        vertical-align: middle;\n",
       "    }\n",
       "\n",
       "    .dataframe tbody tr th {\n",
       "        vertical-align: top;\n",
       "    }\n",
       "\n",
       "    .dataframe thead th {\n",
       "        text-align: right;\n",
       "    }\n",
       "</style>\n",
       "<table border=\"1\" class=\"dataframe\">\n",
       "  <thead>\n",
       "    <tr style=\"text-align: right;\">\n",
       "      <th></th>\n",
       "      <th>timestamp</th>\n",
       "      <th>level</th>\n",
       "      <th>cmdb_id</th>\n",
       "      <th>failure_type</th>\n",
       "      <th>datetime</th>\n",
       "    </tr>\n",
       "  </thead>\n",
       "  <tbody>\n",
       "    <tr>\n",
       "      <th>5</th>\n",
       "      <td>1651519906</td>\n",
       "      <td>service</td>\n",
       "      <td>productcatalogservice</td>\n",
       "      <td>Kubernetes Container Network Resource Packet D...</td>\n",
       "      <td>2022-05-02 19:31:46</td>\n",
       "    </tr>\n",
       "    <tr>\n",
       "      <th>8</th>\n",
       "      <td>1651523554</td>\n",
       "      <td>service</td>\n",
       "      <td>recommendationservice</td>\n",
       "      <td>Kubernetes Container Read I/O Load</td>\n",
       "      <td>2022-05-02 20:32:34</td>\n",
       "    </tr>\n",
       "    <tr>\n",
       "      <th>10</th>\n",
       "      <td>1651529574</td>\n",
       "      <td>service</td>\n",
       "      <td>frontend</td>\n",
       "      <td>Kubernetes Container Network Resource Packet D...</td>\n",
       "      <td>2022-05-02 22:12:54</td>\n",
       "    </tr>\n",
       "    <tr>\n",
       "      <th>13</th>\n",
       "      <td>1651533257</td>\n",
       "      <td>service</td>\n",
       "      <td>recommendationservice</td>\n",
       "      <td>Kubernetes Container Network Packet Loss</td>\n",
       "      <td>2022-05-02 23:14:17</td>\n",
       "    </tr>\n",
       "    <tr>\n",
       "      <th>14</th>\n",
       "      <td>1651535538</td>\n",
       "      <td>service</td>\n",
       "      <td>cartservice</td>\n",
       "      <td>Kubernetes Container Network Packet Loss</td>\n",
       "      <td>2022-05-02 23:52:18</td>\n",
       "    </tr>\n",
       "    <tr>\n",
       "      <th>16</th>\n",
       "      <td>1651538629</td>\n",
       "      <td>service</td>\n",
       "      <td>emailservice</td>\n",
       "      <td>Kubernetes Container Write I/O Load</td>\n",
       "      <td>2022-05-03 00:43:49</td>\n",
       "    </tr>\n",
       "    <tr>\n",
       "      <th>18</th>\n",
       "      <td>1651544319</td>\n",
       "      <td>service</td>\n",
       "      <td>frontend</td>\n",
       "      <td>Kubernetes Container Write I/O Load</td>\n",
       "      <td>2022-05-03 02:18:39</td>\n",
       "    </tr>\n",
       "    <tr>\n",
       "      <th>19</th>\n",
       "      <td>1651545391</td>\n",
       "      <td>service</td>\n",
       "      <td>adservice</td>\n",
       "      <td>Kubernetes Container Read I/O Load</td>\n",
       "      <td>2022-05-03 02:36:31</td>\n",
       "    </tr>\n",
       "    <tr>\n",
       "      <th>21</th>\n",
       "      <td>1651551592</td>\n",
       "      <td>service</td>\n",
       "      <td>currencyservice</td>\n",
       "      <td>Kubernetes Container Network Resource Packet C...</td>\n",
       "      <td>2022-05-03 04:19:52</td>\n",
       "    </tr>\n",
       "    <tr>\n",
       "      <th>22</th>\n",
       "      <td>1651553048</td>\n",
       "      <td>service</td>\n",
       "      <td>checkoutservice</td>\n",
       "      <td>Kubernetes Container CPU Load</td>\n",
       "      <td>2022-05-03 04:44:08</td>\n",
       "    </tr>\n",
       "    <tr>\n",
       "      <th>23</th>\n",
       "      <td>1651557284</td>\n",
       "      <td>service</td>\n",
       "      <td>currencyservice</td>\n",
       "      <td>Kubernetes Container Network Packet Loss</td>\n",
       "      <td>2022-05-03 05:54:44</td>\n",
       "    </tr>\n",
       "    <tr>\n",
       "      <th>24</th>\n",
       "      <td>1651559992</td>\n",
       "      <td>service</td>\n",
       "      <td>checkoutservice</td>\n",
       "      <td>Kubernetes Container Network Resource Packet C...</td>\n",
       "      <td>2022-05-03 06:39:52</td>\n",
       "    </tr>\n",
       "    <tr>\n",
       "      <th>26</th>\n",
       "      <td>1651562022</td>\n",
       "      <td>service</td>\n",
       "      <td>productcatalogservice</td>\n",
       "      <td>Kubernetes Container Network Packet Loss</td>\n",
       "      <td>2022-05-03 07:13:42</td>\n",
       "    </tr>\n",
       "    <tr>\n",
       "      <th>32</th>\n",
       "      <td>1651574154</td>\n",
       "      <td>service</td>\n",
       "      <td>emailservice</td>\n",
       "      <td>Kubernetes Container Read I/O Load</td>\n",
       "      <td>2022-05-03 10:35:54</td>\n",
       "    </tr>\n",
       "    <tr>\n",
       "      <th>35</th>\n",
       "      <td>1651578454</td>\n",
       "      <td>service</td>\n",
       "      <td>productcatalogservice</td>\n",
       "      <td>Kubernetes Container Memory Load</td>\n",
       "      <td>2022-05-03 11:47:34</td>\n",
       "    </tr>\n",
       "    <tr>\n",
       "      <th>39</th>\n",
       "      <td>1651587373</td>\n",
       "      <td>service</td>\n",
       "      <td>checkoutservice</td>\n",
       "      <td>Kubernetes Container Network Resource Packet D...</td>\n",
       "      <td>2022-05-03 14:16:13</td>\n",
       "    </tr>\n",
       "    <tr>\n",
       "      <th>40</th>\n",
       "      <td>1651588509</td>\n",
       "      <td>service</td>\n",
       "      <td>recommendationservice</td>\n",
       "      <td>Kubernetes Container Memory Load</td>\n",
       "      <td>2022-05-03 14:35:09</td>\n",
       "    </tr>\n",
       "    <tr>\n",
       "      <th>41</th>\n",
       "      <td>1651589596</td>\n",
       "      <td>service</td>\n",
       "      <td>frontend</td>\n",
       "      <td>Kubernetes Container Network Resource Packet C...</td>\n",
       "      <td>2022-05-03 14:53:16</td>\n",
       "    </tr>\n",
       "    <tr>\n",
       "      <th>43</th>\n",
       "      <td>1651514529</td>\n",
       "      <td>service</td>\n",
       "      <td>adservice</td>\n",
       "      <td>Kubernetes Container Network Latency</td>\n",
       "      <td>2022-05-02 18:02:09</td>\n",
       "    </tr>\n",
       "    <tr>\n",
       "      <th>44</th>\n",
       "      <td>1651526238</td>\n",
       "      <td>service</td>\n",
       "      <td>recommendationservice</td>\n",
       "      <td>Kubernetes Container Process Termination</td>\n",
       "      <td>2022-05-02 21:17:18</td>\n",
       "    </tr>\n",
       "    <tr>\n",
       "      <th>46</th>\n",
       "      <td>1651566484</td>\n",
       "      <td>service</td>\n",
       "      <td>checkoutservice</td>\n",
       "      <td>Kubernetes Container Process Termination</td>\n",
       "      <td>2022-05-03 08:28:04</td>\n",
       "    </tr>\n",
       "  </tbody>\n",
       "</table>\n",
       "</div>"
      ],
      "text/plain": [
       "     timestamp    level                cmdb_id  \\\n",
       "5   1651519906  service  productcatalogservice   \n",
       "8   1651523554  service  recommendationservice   \n",
       "10  1651529574  service               frontend   \n",
       "13  1651533257  service  recommendationservice   \n",
       "14  1651535538  service            cartservice   \n",
       "16  1651538629  service           emailservice   \n",
       "18  1651544319  service               frontend   \n",
       "19  1651545391  service              adservice   \n",
       "21  1651551592  service        currencyservice   \n",
       "22  1651553048  service        checkoutservice   \n",
       "23  1651557284  service        currencyservice   \n",
       "24  1651559992  service        checkoutservice   \n",
       "26  1651562022  service  productcatalogservice   \n",
       "32  1651574154  service           emailservice   \n",
       "35  1651578454  service  productcatalogservice   \n",
       "39  1651587373  service        checkoutservice   \n",
       "40  1651588509  service  recommendationservice   \n",
       "41  1651589596  service               frontend   \n",
       "43  1651514529  service              adservice   \n",
       "44  1651526238  service  recommendationservice   \n",
       "46  1651566484  service        checkoutservice   \n",
       "\n",
       "                                         failure_type            datetime  \n",
       "5   Kubernetes Container Network Resource Packet D... 2022-05-02 19:31:46  \n",
       "8                  Kubernetes Container Read I/O Load 2022-05-02 20:32:34  \n",
       "10  Kubernetes Container Network Resource Packet D... 2022-05-02 22:12:54  \n",
       "13           Kubernetes Container Network Packet Loss 2022-05-02 23:14:17  \n",
       "14           Kubernetes Container Network Packet Loss 2022-05-02 23:52:18  \n",
       "16                Kubernetes Container Write I/O Load 2022-05-03 00:43:49  \n",
       "18                Kubernetes Container Write I/O Load 2022-05-03 02:18:39  \n",
       "19                 Kubernetes Container Read I/O Load 2022-05-03 02:36:31  \n",
       "21  Kubernetes Container Network Resource Packet C... 2022-05-03 04:19:52  \n",
       "22                      Kubernetes Container CPU Load 2022-05-03 04:44:08  \n",
       "23           Kubernetes Container Network Packet Loss 2022-05-03 05:54:44  \n",
       "24  Kubernetes Container Network Resource Packet C... 2022-05-03 06:39:52  \n",
       "26           Kubernetes Container Network Packet Loss 2022-05-03 07:13:42  \n",
       "32                 Kubernetes Container Read I/O Load 2022-05-03 10:35:54  \n",
       "35                   Kubernetes Container Memory Load 2022-05-03 11:47:34  \n",
       "39  Kubernetes Container Network Resource Packet D... 2022-05-03 14:16:13  \n",
       "40                   Kubernetes Container Memory Load 2022-05-03 14:35:09  \n",
       "41  Kubernetes Container Network Resource Packet C... 2022-05-03 14:53:16  \n",
       "43               Kubernetes Container Network Latency 2022-05-02 18:02:09  \n",
       "44           Kubernetes Container Process Termination 2022-05-02 21:17:18  \n",
       "46           Kubernetes Container Process Termination 2022-05-03 08:28:04  "
      ]
     },
     "execution_count": 4,
     "metadata": {},
     "output_type": "execute_result"
    }
   ],
   "source": [
    "service_failures_03_05_df = failures_03_05_df[failures_03_05_df['level'] == 'service']\n",
    "service_failures_03_05_df"
   ]
  },
  {
   "cell_type": "code",
   "execution_count": 5,
   "id": "30543286",
   "metadata": {},
   "outputs": [
    {
     "name": "stdout",
     "output_type": "stream",
     "text": [
      "Dataset shape: (5444332, 6)\n"
     ]
    },
    {
     "data": {
      "application/vnd.microsoft.datawrangler.viewer.v0+json": {
       "columns": [
        {
         "name": "index",
         "rawType": "int64",
         "type": "integer"
        },
        {
         "name": "log_id",
         "rawType": "object",
         "type": "string"
        },
        {
         "name": "timestamp",
         "rawType": "int64",
         "type": "integer"
        },
        {
         "name": "cmdb_id",
         "rawType": "object",
         "type": "string"
        },
        {
         "name": "log_name",
         "rawType": "object",
         "type": "string"
        },
        {
         "name": "value",
         "rawType": "object",
         "type": "string"
        },
        {
         "name": "datetime",
         "rawType": "datetime64[ns]",
         "type": "datetime"
        }
       ],
       "ref": "b7b27e44-6356-4f5c-9194-8dfd171647a4",
       "rows": [
        [
         "0",
         "Cp6Bt38B8vQa58bZsQau",
         "1651507200",
         "frontend-1",
         "log_frontend-service_application",
         "severity: debug, message: request complete",
         "2022-05-02 16:00:00"
        ],
        [
         "1",
         "EZ6Bt38B8vQa58bZqQWr",
         "1651507200",
         "cartservice-2",
         "log_cartservice-service_application",
         "     Executing endpoint 'gRPC - /hipstershop.CartService/GetCart'",
         "2022-05-02 16:00:00"
        ],
        [
         "2",
         "FZ6Bt38B8vQa58bZqQWr",
         "1651507200",
         "cartservice-2",
         "log_cartservice-service_application",
         "[40m\u001b[32minfo\u001b[39m\u001b[22m\u001b[49m: Microsoft.AspNetCore.Hosting.Diagnostics[2]",
         "2022-05-02 16:00:00"
        ],
        [
         "3",
         "Fp6Bt38B8vQa58bZqQWr",
         "1651507200",
         "cartservice-2",
         "log_cartservice-service_application",
         "     Request finished in 0.6231ms 200 application/grpc",
         "2022-05-02 16:00:00"
        ],
        [
         "4",
         "F56Bt38B8vQa58bZqQWr",
         "1651507200",
         "cartservice-2",
         "log_cartservice-service_application",
         "[40m\u001b[32minfo\u001b[39m\u001b[22m\u001b[49m: Microsoft.AspNetCore.Hosting.Diagnostics[1]",
         "2022-05-02 16:00:00"
        ]
       ],
       "shape": {
        "columns": 6,
        "rows": 5
       }
      },
      "text/html": [
       "<div>\n",
       "<style scoped>\n",
       "    .dataframe tbody tr th:only-of-type {\n",
       "        vertical-align: middle;\n",
       "    }\n",
       "\n",
       "    .dataframe tbody tr th {\n",
       "        vertical-align: top;\n",
       "    }\n",
       "\n",
       "    .dataframe thead th {\n",
       "        text-align: right;\n",
       "    }\n",
       "</style>\n",
       "<table border=\"1\" class=\"dataframe\">\n",
       "  <thead>\n",
       "    <tr style=\"text-align: right;\">\n",
       "      <th></th>\n",
       "      <th>log_id</th>\n",
       "      <th>timestamp</th>\n",
       "      <th>cmdb_id</th>\n",
       "      <th>log_name</th>\n",
       "      <th>value</th>\n",
       "      <th>datetime</th>\n",
       "    </tr>\n",
       "  </thead>\n",
       "  <tbody>\n",
       "    <tr>\n",
       "      <th>0</th>\n",
       "      <td>Cp6Bt38B8vQa58bZsQau</td>\n",
       "      <td>1651507200</td>\n",
       "      <td>frontend-1</td>\n",
       "      <td>log_frontend-service_application</td>\n",
       "      <td>severity: debug, message: request complete</td>\n",
       "      <td>2022-05-02 16:00:00</td>\n",
       "    </tr>\n",
       "    <tr>\n",
       "      <th>1</th>\n",
       "      <td>EZ6Bt38B8vQa58bZqQWr</td>\n",
       "      <td>1651507200</td>\n",
       "      <td>cartservice-2</td>\n",
       "      <td>log_cartservice-service_application</td>\n",
       "      <td>Executing endpoint 'gRPC - /hipstershop.C...</td>\n",
       "      <td>2022-05-02 16:00:00</td>\n",
       "    </tr>\n",
       "    <tr>\n",
       "      <th>2</th>\n",
       "      <td>FZ6Bt38B8vQa58bZqQWr</td>\n",
       "      <td>1651507200</td>\n",
       "      <td>cartservice-2</td>\n",
       "      <td>log_cartservice-service_application</td>\n",
       "      <td>[40m\u001b[32minfo\u001b[39m\u001b[22m\u001b[49m: Microsoft.AspNet...</td>\n",
       "      <td>2022-05-02 16:00:00</td>\n",
       "    </tr>\n",
       "    <tr>\n",
       "      <th>3</th>\n",
       "      <td>Fp6Bt38B8vQa58bZqQWr</td>\n",
       "      <td>1651507200</td>\n",
       "      <td>cartservice-2</td>\n",
       "      <td>log_cartservice-service_application</td>\n",
       "      <td>Request finished in 0.6231ms 200 applicat...</td>\n",
       "      <td>2022-05-02 16:00:00</td>\n",
       "    </tr>\n",
       "    <tr>\n",
       "      <th>4</th>\n",
       "      <td>F56Bt38B8vQa58bZqQWr</td>\n",
       "      <td>1651507200</td>\n",
       "      <td>cartservice-2</td>\n",
       "      <td>log_cartservice-service_application</td>\n",
       "      <td>[40m\u001b[32minfo\u001b[39m\u001b[22m\u001b[49m: Microsoft.AspNet...</td>\n",
       "      <td>2022-05-02 16:00:00</td>\n",
       "    </tr>\n",
       "  </tbody>\n",
       "</table>\n",
       "</div>"
      ],
      "text/plain": [
       "                 log_id   timestamp        cmdb_id  \\\n",
       "0  Cp6Bt38B8vQa58bZsQau  1651507200     frontend-1   \n",
       "1  EZ6Bt38B8vQa58bZqQWr  1651507200  cartservice-2   \n",
       "2  FZ6Bt38B8vQa58bZqQWr  1651507200  cartservice-2   \n",
       "3  Fp6Bt38B8vQa58bZqQWr  1651507200  cartservice-2   \n",
       "4  F56Bt38B8vQa58bZqQWr  1651507200  cartservice-2   \n",
       "\n",
       "                              log_name  \\\n",
       "0     log_frontend-service_application   \n",
       "1  log_cartservice-service_application   \n",
       "2  log_cartservice-service_application   \n",
       "3  log_cartservice-service_application   \n",
       "4  log_cartservice-service_application   \n",
       "\n",
       "                                               value            datetime  \n",
       "0         severity: debug, message: request complete 2022-05-02 16:00:00  \n",
       "1       Executing endpoint 'gRPC - /hipstershop.C... 2022-05-02 16:00:00  \n",
       "2  [40m\u001b[32minfo\u001b[39m\u001b[22m\u001b[49m: Microsoft.AspNet... 2022-05-02 16:00:00  \n",
       "3       Request finished in 0.6231ms 200 applicat... 2022-05-02 16:00:00  \n",
       "4  [40m\u001b[32minfo\u001b[39m\u001b[22m\u001b[49m: Microsoft.AspNet... 2022-05-02 16:00:00  "
      ]
     },
     "execution_count": 5,
     "metadata": {},
     "output_type": "execute_result"
    }
   ],
   "source": [
    "logs_03_05_service_df = get_data('/Users/arinagoncharova/Documents/diploma/EDA/Aiops-Dataset/data/2022-05-03/log/all/log_filebeat-testbed-log-service.csv')\n",
    "logs_03_05_service_df.head()"
   ]
  },
  {
   "cell_type": "code",
   "execution_count": 6,
   "id": "e16d8cbb",
   "metadata": {},
   "outputs": [],
   "source": [
    "def normalize_log(line: str) -> str:\n",
    "    return re.sub(r'\\d+', '<NUM>', str(line))"
   ]
  },
  {
   "cell_type": "code",
   "execution_count": 7,
   "id": "ee4dbee7",
   "metadata": {},
   "outputs": [
    {
     "data": {
      "text/plain": [
       "84465"
      ]
     },
     "execution_count": 7,
     "metadata": {},
     "output_type": "execute_result"
    }
   ],
   "source": [
    "logs_03_05_service_df['value_normalized'] = logs_03_05_service_df['value'].apply(normalize_log)\n",
    "logs_03_05_service_df['value_normalized'].nunique()"
   ]
  },
  {
   "cell_type": "code",
   "execution_count": 8,
   "id": "007a2c21",
   "metadata": {},
   "outputs": [],
   "source": [
    "def get_model(model_name):\n",
    "    device = \"mps\" if torch.backends.mps.is_available() else \"cpu\"\n",
    "    print(f\"Using device: {device}\")\n",
    "    model = SentenceTransformer(model_name, device=device)\n",
    "    return model\n",
    "\n",
    "def compute_embeddings(model, texts_list, should_save=True, filename=\"/Users/arinagoncharova/Documents/diploma/repo/embeddings/AIOps/qween3_embeddings.parquet\"):\n",
    "    computed_emb = model.encode(\n",
    "        texts_list,\n",
    "        normalize_embeddings=True,\n",
    "        batch_size=32,      \n",
    "        show_progress_bar=True,\n",
    "        convert_to_numpy=True,\n",
    "        device=model.device \n",
    "    )\n",
    "\n",
    "    text_emb_mapping = pd.DataFrame({\n",
    "        'log_message': texts_list,\n",
    "        'embedding': list(computed_emb)\n",
    "    })\n",
    "\n",
    "    if should_save:\n",
    "        text_emb_mapping.to_parquet(filename)\n",
    "\n",
    "    return text_emb_mapping"
   ]
  },
  {
   "cell_type": "code",
   "execution_count": null,
   "id": "e0574481",
   "metadata": {},
   "outputs": [
    {
     "name": "stdout",
     "output_type": "stream",
     "text": [
      "Using device: mps\n"
     ]
    },
    {
     "data": {
      "application/vnd.jupyter.widget-view+json": {
       "model_id": "3ce21dd002754109ae6da6839a23cc48",
       "version_major": 2,
       "version_minor": 0
      },
      "text/plain": [
       "model.safetensors:   0%|          | 0.00/1.19G [00:00<?, ?B/s]"
      ]
     },
     "metadata": {},
     "output_type": "display_data"
    },
    {
     "name": "stdout",
     "output_type": "stream",
     "text": [
      "  \u001b[2m2025-10-21T18:16:35.554234Z\u001b[0m \u001b[31mERROR\u001b[0m  \u001b[31mPython exception updating progress:, error: PyErr { type: <class 'LookupError'>, value: LookupError(<ContextVar name='shell_parent' at 0x10675cea0>), traceback: Some(<traceback object at 0x2d9ab9600>) }, \u001b[1;31mcaller\u001b[0m\u001b[31m: \"src/progress_update.rs:313\"\u001b[0m\n",
      "    \u001b[2;3mat\u001b[0m /Users/runner/work/xet-core/xet-core/error_printer/src/lib.rs:28\n",
      "\n",
      "  \u001b[2m2025-10-21T18:16:35.559818Z\u001b[0m \u001b[31mERROR\u001b[0m  \u001b[31mPython exception updating progress:, error: PyErr { type: <class 'LookupError'>, value: LookupError(<ContextVar name='shell_parent' at 0x10675cea0>), traceback: Some(<traceback object at 0x2d9ab96c0>) }, \u001b[1;31mcaller\u001b[0m\u001b[31m: \"src/progress_update.rs:313\"\u001b[0m\n",
      "    \u001b[2;3mat\u001b[0m /Users/runner/work/xet-core/xet-core/error_printer/src/lib.rs:28\n",
      "\n",
      "  \u001b[2m2025-10-21T18:16:35.560214Z\u001b[0m \u001b[31mERROR\u001b[0m  \u001b[31mPython exception updating progress:, error: PyErr { type: <class 'LookupError'>, value: LookupError(<ContextVar name='shell_parent' at 0x10675cea0>), traceback: Some(<traceback object at 0x2d9ab9840>) }, \u001b[1;31mcaller\u001b[0m\u001b[31m: \"src/progress_update.rs:313\"\u001b[0m\n",
      "    \u001b[2;3mat\u001b[0m /Users/runner/work/xet-core/xet-core/error_printer/src/lib.rs:28\n",
      "\n",
      "  \u001b[2m2025-10-21T18:16:35.560378Z\u001b[0m \u001b[31mERROR\u001b[0m  \u001b[31mPython exception updating progress:, error: PyErr { type: <class 'LookupError'>, value: LookupError(<ContextVar name='shell_parent' at 0x10675cea0>), traceback: Some(<traceback object at 0x2d9ab9a40>) }, \u001b[1;31mcaller\u001b[0m\u001b[31m: \"src/progress_update.rs:313\"\u001b[0m\n",
      "    \u001b[2;3mat\u001b[0m /Users/runner/work/xet-core/xet-core/error_printer/src/lib.rs:28\n",
      "\n",
      "  \u001b[2m2025-10-21T18:16:35.560558Z\u001b[0m \u001b[31mERROR\u001b[0m  \u001b[31mPython exception updating progress:, error: PyErr { type: <class 'LookupError'>, value: LookupError(<ContextVar name='shell_parent' at 0x10675cea0>), traceback: Some(<traceback object at 0x2d9ab9b40>) }, \u001b[1;31mcaller\u001b[0m\u001b[31m: \"src/progress_update.rs:313\"\u001b[0m\n",
      "    \u001b[2;3mat\u001b[0m /Users/runner/work/xet-core/xet-core/error_printer/src/lib.rs:28\n",
      "\n",
      "  \u001b[2m2025-10-21T18:16:35.560695Z\u001b[0m \u001b[31mERROR\u001b[0m  \u001b[31mPython exception updating progress:, error: PyErr { type: <class 'LookupError'>, value: LookupError(<ContextVar name='shell_parent' at 0x10675cea0>), traceback: Some(<traceback object at 0x2d9ab9cc0>) }, \u001b[1;31mcaller\u001b[0m\u001b[31m: \"src/progress_update.rs:313\"\u001b[0m\n",
      "    \u001b[2;3mat\u001b[0m /Users/runner/work/xet-core/xet-core/error_printer/src/lib.rs:28\n",
      "\n",
      "  \u001b[2m2025-10-21T18:16:35.560886Z\u001b[0m \u001b[31mERROR\u001b[0m  \u001b[31mPython exception updating progress:, error: PyErr { type: <class 'LookupError'>, value: LookupError(<ContextVar name='shell_parent' at 0x10675cea0>), traceback: Some(<traceback object at 0x2d9ab9e40>) }, \u001b[1;31mcaller\u001b[0m\u001b[31m: \"src/progress_update.rs:313\"\u001b[0m\n",
      "    \u001b[2;3mat\u001b[0m /Users/runner/work/xet-core/xet-core/error_printer/src/lib.rs:28\n",
      "\n",
      "  \u001b[2m2025-10-21T18:16:35.561042Z\u001b[0m \u001b[31mERROR\u001b[0m  \u001b[31mPython exception updating progress:, error: PyErr { type: <class 'LookupError'>, value: LookupError(<ContextVar name='shell_parent' at 0x10675cea0>), traceback: Some(<traceback object at 0x2d9ab9f00>) }, \u001b[1;31mcaller\u001b[0m\u001b[31m: \"src/progress_update.rs:313\"\u001b[0m\n",
      "    \u001b[2;3mat\u001b[0m /Users/runner/work/xet-core/xet-core/error_printer/src/lib.rs:28\n",
      "\n",
      "  \u001b[2m2025-10-21T18:16:35.561159Z\u001b[0m \u001b[31mERROR\u001b[0m  \u001b[31mPython exception updating progress:, error: PyErr { type: <class 'LookupError'>, value: LookupError(<ContextVar name='shell_parent' at 0x10675cea0>), traceback: Some(<traceback object at 0x2d9aba040>) }, \u001b[1;31mcaller\u001b[0m\u001b[31m: \"src/progress_update.rs:313\"\u001b[0m\n",
      "    \u001b[2;3mat\u001b[0m /Users/runner/work/xet-core/xet-core/error_printer/src/lib.rs:28\n",
      "\n",
      "  \u001b[2m2025-10-21T18:16:35.561268Z\u001b[0m \u001b[31mERROR\u001b[0m  \u001b[31mPython exception updating progress:, error: PyErr { type: <class 'LookupError'>, value: LookupError(<ContextVar name='shell_parent' at 0x10675cea0>), traceback: Some(<traceback object at 0x2d9aba180>) }, \u001b[1;31mcaller\u001b[0m\u001b[31m: \"src/progress_update.rs:313\"\u001b[0m\n",
      "    \u001b[2;3mat\u001b[0m /Users/runner/work/xet-core/xet-core/error_printer/src/lib.rs:28\n",
      "\n",
      "  \u001b[2m2025-10-21T18:16:35.717118Z\u001b[0m \u001b[31mERROR\u001b[0m  \u001b[31mPython exception updating progress:, error: PyErr { type: <class 'LookupError'>, value: LookupError(<ContextVar name='shell_parent' at 0x10675cea0>), traceback: Some(<traceback object at 0x2d9aba2c0>) }, \u001b[1;31mcaller\u001b[0m\u001b[31m: \"src/progress_update.rs:313\"\u001b[0m\n",
      "    \u001b[2;3mat\u001b[0m /Users/runner/work/xet-core/xet-core/error_printer/src/lib.rs:28\n",
      "\n",
      "  \u001b[2m2025-10-21T18:16:35.717317Z\u001b[0m \u001b[31mERROR\u001b[0m  \u001b[31mPython exception updating progress:, error: PyErr { type: <class 'LookupError'>, value: LookupError(<ContextVar name='shell_parent' at 0x10675cea0>), traceback: Some(<traceback object at 0x2d9aba400>) }, \u001b[1;31mcaller\u001b[0m\u001b[31m: \"src/progress_update.rs:313\"\u001b[0m\n",
      "    \u001b[2;3mat\u001b[0m /Users/runner/work/xet-core/xet-core/error_printer/src/lib.rs:28\n",
      "\n",
      "  \u001b[2m2025-10-21T18:16:35.717438Z\u001b[0m \u001b[31mERROR\u001b[0m  \u001b[31mPython exception updating progress:, error: PyErr { type: <class 'LookupError'>, value: LookupError(<ContextVar name='shell_parent' at 0x10675cea0>), traceback: Some(<traceback object at 0x2d9aba540>) }, \u001b[1;31mcaller\u001b[0m\u001b[31m: \"src/progress_update.rs:313\"\u001b[0m\n",
      "    \u001b[2;3mat\u001b[0m /Users/runner/work/xet-core/xet-core/error_printer/src/lib.rs:28\n",
      "\n",
      "  \u001b[2m2025-10-21T18:16:35.717558Z\u001b[0m \u001b[31mERROR\u001b[0m  \u001b[31mPython exception updating progress:, error: PyErr { type: <class 'LookupError'>, value: LookupError(<ContextVar name='shell_parent' at 0x10675cea0>), traceback: Some(<traceback object at 0x2d9aba600>) }, \u001b[1;31mcaller\u001b[0m\u001b[31m: \"src/progress_update.rs:313\"\u001b[0m\n",
      "    \u001b[2;3mat\u001b[0m /Users/runner/work/xet-core/xet-core/error_printer/src/lib.rs:28\n",
      "\n",
      "  \u001b[2m2025-10-21T18:16:35.717658Z\u001b[0m \u001b[31mERROR\u001b[0m  \u001b[31mPython exception updating progress:, error: PyErr { type: <class 'LookupError'>, value: LookupError(<ContextVar name='shell_parent' at 0x10675cea0>), traceback: Some(<traceback object at 0x2d9aba6c0>) }, \u001b[1;31mcaller\u001b[0m\u001b[31m: \"src/progress_update.rs:313\"\u001b[0m\n",
      "    \u001b[2;3mat\u001b[0m /Users/runner/work/xet-core/xet-core/error_printer/src/lib.rs:28\n",
      "\n",
      "  \u001b[2m2025-10-21T18:16:35.717759Z\u001b[0m \u001b[31mERROR\u001b[0m  \u001b[31mPython exception updating progress:, error: PyErr { type: <class 'LookupError'>, value: LookupError(<ContextVar name='shell_parent' at 0x10675cea0>), traceback: Some(<traceback object at 0x2d9aba7c0>) }, \u001b[1;31mcaller\u001b[0m\u001b[31m: \"src/progress_update.rs:313\"\u001b[0m\n",
      "    \u001b[2;3mat\u001b[0m /Users/runner/work/xet-core/xet-core/error_printer/src/lib.rs:28\n",
      "\n",
      "  \u001b[2m2025-10-21T18:16:35.757531Z\u001b[0m \u001b[31mERROR\u001b[0m  \u001b[31mPython exception updating progress:, error: PyErr { type: <class 'LookupError'>, value: LookupError(<ContextVar name='shell_parent' at 0x10675cea0>), traceback: Some(<traceback object at 0x2d9aba880>) }, \u001b[1;31mcaller\u001b[0m\u001b[31m: \"src/progress_update.rs:313\"\u001b[0m\n",
      "    \u001b[2;3mat\u001b[0m /Users/runner/work/xet-core/xet-core/error_printer/src/lib.rs:28\n",
      "\n",
      "  \u001b[2m2025-10-21T18:16:35.761142Z\u001b[0m \u001b[31mERROR\u001b[0m  \u001b[31mPython exception updating progress:, error: PyErr { type: <class 'LookupError'>, value: LookupError(<ContextVar name='shell_parent' at 0x10675cea0>), traceback: Some(<traceback object at 0x2d9aba9c0>) }, \u001b[1;31mcaller\u001b[0m\u001b[31m: \"src/progress_update.rs:313\"\u001b[0m\n",
      "    \u001b[2;3mat\u001b[0m /Users/runner/work/xet-core/xet-core/error_printer/src/lib.rs:28\n",
      "\n",
      "  \u001b[2m2025-10-21T18:16:35.775076Z\u001b[0m \u001b[31mERROR\u001b[0m  \u001b[31mPython exception updating progress:, error: PyErr { type: <class 'LookupError'>, value: LookupError(<ContextVar name='shell_parent' at 0x10675cea0>), traceback: Some(<traceback object at 0x2d9aba640>) }, \u001b[1;31mcaller\u001b[0m\u001b[31m: \"src/progress_update.rs:313\"\u001b[0m\n",
      "    \u001b[2;3mat\u001b[0m /Users/runner/work/xet-core/xet-core/error_printer/src/lib.rs:28\n",
      "\n",
      "  \u001b[2m2025-10-21T18:16:35.804141Z\u001b[0m \u001b[31mERROR\u001b[0m  \u001b[31mPython exception updating progress:, error: PyErr { type: <class 'LookupError'>, value: LookupError(<ContextVar name='shell_parent' at 0x10675cea0>), traceback: Some(<traceback object at 0x2d9abaa80>) }, \u001b[1;31mcaller\u001b[0m\u001b[31m: \"src/progress_update.rs:313\"\u001b[0m\n",
      "    \u001b[2;3mat\u001b[0m /Users/runner/work/xet-core/xet-core/error_printer/src/lib.rs:28\n",
      "\n"
     ]
    }
   ],
   "source": [
    "qween3_model = get_model(\"Qwen/Qwen3-Embedding-0.6B\")\n",
    "unique_logs_list = list(logs_03_05_service_df['value_normalized'])\n",
    "log_values_emb_mapping_qween3_df = compute_embeddings(\n",
    "    qween3_model,\n",
    "    unique_logs_list,\n",
    "    True,\n",
    "    \"/Users/arinagoncharova/Documents/diploma/repo/embeddings/AIOps/qween3_embeddings.parquet\"\n",
    ")\n",
    "log_values_emb_mapping_qween3_df.head()"
   ]
  },
  {
   "cell_type": "code",
   "execution_count": null,
   "id": "87b134fb",
   "metadata": {},
   "outputs": [],
   "source": []
  }
 ],
 "metadata": {
  "kernelspec": {
   "display_name": ".venv",
   "language": "python",
   "name": "python3"
  },
  "language_info": {
   "codemirror_mode": {
    "name": "ipython",
    "version": 3
   },
   "file_extension": ".py",
   "mimetype": "text/x-python",
   "name": "python",
   "nbconvert_exporter": "python",
   "pygments_lexer": "ipython3",
   "version": "3.12.2"
  }
 },
 "nbformat": 4,
 "nbformat_minor": 5
}
